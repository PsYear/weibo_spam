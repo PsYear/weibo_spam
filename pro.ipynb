{
 "cells": [
  {
   "cell_type": "code",
   "execution_count": 4,
   "metadata": {
    "collapsed": true
   },
   "outputs": [],
   "source": [
    "###### -*- coding:utf-8 -*-\n",
    "import pandas as pd #数据分析\n",
    "import numpy as np #科学计算\n",
    "from pandas import Series,DataFrame\n",
    "\n",
    "post = pd.read_csv(\"./data/post.csv\", encoding='gbk')\n",
    "\n",
    "follower = pd.read_csv(\"./data/follower_followee.csv\", encoding='gbk')\n",
    "\n",
    "user_post = pd.read_excel('./data/user_post.xls', 'user_post')\n",
    "# user_post\n",
    "\n",
    "user = pd.read_excel('./data/weibo_user.xls', 'weibo_user')\n",
    "# user\n",
    "\n"
   ]
  },
  {
   "cell_type": "markdown",
   "metadata": {},
   "source": [
    "先分析post数据"
   ]
  },
  {
   "cell_type": "code",
   "execution_count": 12,
   "metadata": {
    "collapsed": true
   },
   "outputs": [],
   "source": [
    "# 加上这段后就能在同一cell中显示多个对象\n",
    "from IPython.core.interactiveshell import InteractiveShell\n",
    "InteractiveShell.ast_node_interactivity = \"all\""
   ]
  },
  {
   "cell_type": "code",
   "execution_count": 13,
   "metadata": {},
   "outputs": [
    {
     "data": {
      "text/plain": [
       "array([u'post_id', u'scratch_time', u'post_time', u'content', u'image',\n",
       "       u'poster', u'poster_id', u'poster_url', u'repost_num',\n",
       "       u'comment_num', u'repost_post_id'], dtype=object)"
      ]
     },
     "execution_count": 13,
     "metadata": {},
     "output_type": "execute_result"
    },
    {
     "data": {
      "text/plain": [
       "array(['user_id', 'user_name', 'user_image', 'gender', 'class', 'message',\n",
       "       'post_num', 'follower_num', 'followee_num', 'is_spammer',\n",
       "       'Unnamed: 10'], dtype=object)"
      ]
     },
     "execution_count": 13,
     "metadata": {},
     "output_type": "execute_result"
    },
    {
     "data": {
      "text/plain": [
       "array([u'user_id', u'user_name', u'user_image', u'gender', u'class',\n",
       "       u'message', u'post_num', u'follower_num', u'followee_num',\n",
       "       u'is_spammer', 'Unnamed: 10'], dtype=object)"
      ]
     },
     "execution_count": 13,
     "metadata": {},
     "output_type": "execute_result"
    }
   ],
   "source": [
    "post.columns.values\n",
    "\n",
    "user_post.columns.values\n",
    "\n",
    "user.columns.values"
   ]
  },
  {
   "cell_type": "code",
   "execution_count": 14,
   "metadata": {
    "scrolled": true
   },
   "outputs": [
    {
     "data": {
      "text/html": [
       "<div>\n",
       "<table border=\"1\" class=\"dataframe\">\n",
       "  <thead>\n",
       "    <tr style=\"text-align: right;\">\n",
       "      <th></th>\n",
       "      <th>user_id</th>\n",
       "      <th>user_name</th>\n",
       "      <th>user_image</th>\n",
       "      <th>gender</th>\n",
       "      <th>class</th>\n",
       "      <th>message</th>\n",
       "      <th>post_num</th>\n",
       "      <th>follower_num</th>\n",
       "      <th>followee_num</th>\n",
       "      <th>is_spammer</th>\n",
       "      <th>Unnamed: 10</th>\n",
       "    </tr>\n",
       "  </thead>\n",
       "  <tbody>\n",
       "    <tr>\n",
       "      <th>0</th>\n",
       "      <td>1041514813</td>\n",
       "      <td>james1002</td>\n",
       "      <td>http://tp2.sinaimg.cn/1041514813/180/5708899731/1</td>\n",
       "      <td>male</td>\n",
       "      <td>5</td>\n",
       "      <td>Lv.5     浙江宁波   简介：诚信为本，站的高才能看的远。快乐开心每一天。</td>\n",
       "      <td>1557</td>\n",
       "      <td>1421</td>\n",
       "      <td>2000</td>\n",
       "      <td>NaN</td>\n",
       "      <td>NaN</td>\n",
       "    </tr>\n",
       "    <tr>\n",
       "      <th>1</th>\n",
       "      <td>1046222077</td>\n",
       "      <td>郑钧</td>\n",
       "      <td>http://tp2.sinaimg.cn/1046222077/180/5711167576/1</td>\n",
       "      <td>male</td>\n",
       "      <td>10</td>\n",
       "      <td>北京东城区   简介：且把悲歌欢唱   个性域名： zhengjun    博客地址： h...</td>\n",
       "      <td>1265</td>\n",
       "      <td>1280571</td>\n",
       "      <td>130</td>\n",
       "      <td>NaN</td>\n",
       "      <td>NaN</td>\n",
       "    </tr>\n",
       "    <tr>\n",
       "      <th>2</th>\n",
       "      <td>1049591831</td>\n",
       "      <td>波播阿波思密达</td>\n",
       "      <td>http://tp4.sinaimg.cn/1049591831/180/5710224593/0</td>\n",
       "      <td>female</td>\n",
       "      <td>5</td>\n",
       "      <td>Lv.5     吉林松原   1972年12月3日   简介：自由人，快乐族</td>\n",
       "      <td>503</td>\n",
       "      <td>302</td>\n",
       "      <td>968</td>\n",
       "      <td>NaN</td>\n",
       "      <td>NaN</td>\n",
       "    </tr>\n",
       "    <tr>\n",
       "      <th>3</th>\n",
       "      <td>1062050703</td>\n",
       "      <td>霞儿0109</td>\n",
       "      <td>http://tp4.sinaimg.cn/1062050703/180/1277084329/0</td>\n",
       "      <td>female</td>\n",
       "      <td>9</td>\n",
       "      <td>Lv.9     福建厦门    毕业于  厦门大学     公司  ChinaZ站长...</td>\n",
       "      <td>281</td>\n",
       "      <td>148</td>\n",
       "      <td>354</td>\n",
       "      <td>NaN</td>\n",
       "      <td>NaN</td>\n",
       "    </tr>\n",
       "    <tr>\n",
       "      <th>4</th>\n",
       "      <td>1071429143</td>\n",
       "      <td>紫荆花_18423</td>\n",
       "      <td>http://tp4.sinaimg.cn/1071429143/180/400610658...</td>\n",
       "      <td>female</td>\n",
       "      <td>5</td>\n",
       "      <td>Lv.5     广东湛江    毕业于  辽宁师范大学     公司  大学教师  ...</td>\n",
       "      <td>135</td>\n",
       "      <td>1975</td>\n",
       "      <td>2000</td>\n",
       "      <td>NaN</td>\n",
       "      <td>NaN</td>\n",
       "    </tr>\n",
       "  </tbody>\n",
       "</table>\n",
       "</div>"
      ],
      "text/plain": [
       "      user_id  user_name                                         user_image  \\\n",
       "0  1041514813  james1002  http://tp2.sinaimg.cn/1041514813/180/5708899731/1   \n",
       "1  1046222077         閮戦挧  http://tp2.sinaimg.cn/1046222077/180/5711167576/1   \n",
       "2  1049591831    娉㈡挱闃挎尝鎬濆瘑杈� http://tp4.sinaimg.cn/1049591831/180/5710224593/0   \n",
       "3  1062050703     闇炲効0109  http://tp4.sinaimg.cn/1062050703/180/1277084329/0   \n",
       "4  1071429143  绱�崋鑺盻18423  http://tp4.sinaimg.cn/1071429143/180/400610658...   \n",
       "\n",
       "   gender  class                                            message post_num  \\\n",
       "0    male      5        Lv.5     娴欐睙瀹佹尝   绠�粙锛氳瘹淇′负鏈�紝绔欑殑楂樻墠鑳界湅鐨勮繙銆傚揩涔愬紑蹇冩瘡涓�ぉ銆�      1557   \n",
       "1    male     10   鍖椾含涓滃煄鍖�  绠�粙锛氫笖鎶婃偛姝屾�鍞�  涓��鍩熷悕锛�zhengjun    鍗氬�鍦板潃锛�h...     1265   \n",
       "2  female      5          Lv.5     鍚夋灄鏉惧師   1972骞�2鏈�鏃�  绠�粙锛氳嚜鐢变汉锛屽揩涔愭棌        503   \n",
       "3  female      9     Lv.9     绂忓缓鍘﹂棬    姣曚笟浜� 鍘﹂棬澶у�     鍏�徃  ChinaZ绔欓暱...      281   \n",
       "4  female      5     Lv.5     骞夸笢婀涙睙    姣曚笟浜� 杈藉畞甯堣寖澶у�     鍏�徃  澶у�鏁欏笀  ...      135   \n",
       "\n",
       "  follower_num  followee_num  is_spammer  Unnamed: 10  \n",
       "0         1421          2000         NaN          NaN  \n",
       "1      1280571           130         NaN          NaN  \n",
       "2          302           968         NaN          NaN  \n",
       "3          148           354         NaN          NaN  \n",
       "4         1975          2000         NaN          NaN  "
      ]
     },
     "execution_count": 14,
     "metadata": {},
     "output_type": "execute_result"
    }
   ],
   "source": [
    "user.head()"
   ]
  },
  {
   "cell_type": "code",
   "execution_count": 23,
   "metadata": {},
   "outputs": [
    {
     "data": {
      "text/plain": [
       "'   Lv.5     \\xd5\\xe3\\xbd\\xad\\xc4\\xfe\\xb2\\xa8   \\xbc\\xf2\\xbd\\xe9\\xa3\\xba\\xb3\\xcf\\xd0\\xc5\\xce\\xaa\\xb1\\xbe\\xa3\\xac\\xd5\\xbe\\xb5\\xc4\\xb8\\xdf\\xb2\\xc5\\xc4\\xdc\\xbf\\xb4\\xb5\\xc4\\xd4\\xb6\\xa1\\xa3\\xbf\\xec\\xc0\\xd6\\xbf\\xaa\\xd0\\xc4\\xc3\\xbf\\xd2\\xbb\\xcc\\xec\\xa1\\xa3  '"
      ]
     },
     "execution_count": 23,
     "metadata": {},
     "output_type": "execute_result"
    },
    {
     "data": {
      "text/plain": [
       "{'confidence': 0.99, 'encoding': 'GB2312'}"
      ]
     },
     "execution_count": 23,
     "metadata": {},
     "output_type": "execute_result"
    }
   ],
   "source": [
    "user_post = pd.read_csv('./data/weibo_user1.csv')\n",
    "# user_post\n",
    "\n",
    "\n",
    "import chardet\n",
    "s = user_post.iloc[0, 5]\n",
    "s\n",
    "#     f = open(filepath,'rb')\n",
    "#     data = f.read()\n",
    "# print chardet.detect(data)\n",
    "chardet.detect(s)\n",
    "\n",
    "# detect_coding()"
   ]
  },
  {
   "cell_type": "code",
   "execution_count": 25,
   "metadata": {
    "scrolled": true
   },
   "outputs": [],
   "source": [
    "# 除去多余列\n",
    "user_post.info()\n",
    "\n",
    "new_user_post = user_post.drop(user_post.columns[[i for i in range(9, 11)]], axis=1)\n",
    "\n",
    "new_user_post.info()"
   ]
  },
  {
   "cell_type": "code",
   "execution_count": 26,
   "metadata": {},
   "outputs": [
    {
     "data": {
      "text/plain": [
       "array(['user_id', 'user_name', 'user_image', 'gender', 'class', 'message',\n",
       "       'post_num', 'follower_num', 'followee_num'], dtype=object)"
      ]
     },
     "execution_count": 26,
     "metadata": {},
     "output_type": "execute_result"
    },
    {
     "data": {
      "text/plain": [
       "array([u'post_id', u'scratch_time', u'post_time', u'content', u'image',\n",
       "       u'poster', u'poster_id', u'poster_url', u'repost_num',\n",
       "       u'comment_num', u'repost_post_id'], dtype=object)"
      ]
     },
     "execution_count": 26,
     "metadata": {},
     "output_type": "execute_result"
    }
   ],
   "source": [
    "new_user_post.columns.values\n",
    "\n",
    "post.columns.values"
   ]
  },
  {
   "cell_type": "markdown",
   "metadata": {},
   "source": [
    "post多了scratch_time 猜测爬取时间 image 图片地址\n",
    "poster 用户名\n",
    "new_user_post 多inner_flag 不知道干嘛的"
   ]
  },
  {
   "cell_type": "code",
   "execution_count": 51,
   "metadata": {
    "scrolled": true
   },
   "outputs": [
    {
     "data": {
      "text/html": [
       "<div>\n",
       "<table border=\"1\" class=\"dataframe\">\n",
       "  <thead>\n",
       "    <tr style=\"text-align: right;\">\n",
       "      <th></th>\n",
       "      <th>class</th>\n",
       "      <th>comment_num</th>\n",
       "      <th>content</th>\n",
       "      <th>followee_num</th>\n",
       "      <th>follower_num</th>\n",
       "      <th>gender</th>\n",
       "      <th>message</th>\n",
       "      <th>post_id</th>\n",
       "      <th>post_num</th>\n",
       "      <th>post_time</th>\n",
       "      <th>poster_id</th>\n",
       "      <th>poster_url</th>\n",
       "      <th>repost_num</th>\n",
       "      <th>repost_post_id</th>\n",
       "      <th>user_id</th>\n",
       "      <th>user_image</th>\n",
       "      <th>user_name</th>\n",
       "    </tr>\n",
       "  </thead>\n",
       "  <tbody>\n",
       "    <tr>\n",
       "      <th>0</th>\n",
       "      <td>NaN</td>\n",
       "      <td>0.0</td>\n",
       "      <td>爆美来袭独家实拍质量看的见招微信代理一件代发专卖国际品牌名鞋品质赢得市场诚信赚得人心V信：a...</td>\n",
       "      <td>NaN</td>\n",
       "      <td>NaN</td>\n",
       "      <td>NaN</td>\n",
       "      <td>NaN</td>\n",
       "      <td>3.777580e+15</td>\n",
       "      <td>NaN</td>\n",
       "      <td>2014/11/16 16:45</td>\n",
       "      <td>2.364770e+09</td>\n",
       "      <td>http://weibo.com/527loveyou</td>\n",
       "      <td>0.0</td>\n",
       "      <td>NaN</td>\n",
       "      <td>NaN</td>\n",
       "      <td>NaN</td>\n",
       "      <td>NaN</td>\n",
       "    </tr>\n",
       "    <tr>\n",
       "      <th>1</th>\n",
       "      <td>NaN</td>\n",
       "      <td>0.0</td>\n",
       "      <td>【奥汀羽酵素反馈】效果不好也不会卖这么好。正常吃饭，不用节食，不用运动，健康绿色没有副作用。...</td>\n",
       "      <td>NaN</td>\n",
       "      <td>NaN</td>\n",
       "      <td>NaN</td>\n",
       "      <td>NaN</td>\n",
       "      <td>3.777620e+15</td>\n",
       "      <td>NaN</td>\n",
       "      <td>2014/11/16 19:58</td>\n",
       "      <td>2.346770e+09</td>\n",
       "      <td>http://weibo.com/206445959</td>\n",
       "      <td>0.0</td>\n",
       "      <td>NaN</td>\n",
       "      <td>NaN</td>\n",
       "      <td>NaN</td>\n",
       "      <td>NaN</td>\n",
       "    </tr>\n",
       "    <tr>\n",
       "      <th>2</th>\n",
       "      <td>NaN</td>\n",
       "      <td>0.0</td>\n",
       "      <td>我有话说【世界最穷总统拒绝酋长高价收购其老旧座驾】共产党员？http://t.cn/RzvUwBM</td>\n",
       "      <td>NaN</td>\n",
       "      <td>NaN</td>\n",
       "      <td>NaN</td>\n",
       "      <td>NaN</td>\n",
       "      <td>3.777620e+15</td>\n",
       "      <td>NaN</td>\n",
       "      <td>2014/11/16 19:58</td>\n",
       "      <td>2.747800e+09</td>\n",
       "      <td>http://weibo.com/u/2747799853</td>\n",
       "      <td>0.0</td>\n",
       "      <td>NaN</td>\n",
       "      <td>NaN</td>\n",
       "      <td>NaN</td>\n",
       "      <td>NaN</td>\n",
       "    </tr>\n",
       "    <tr>\n",
       "      <th>3</th>\n",
       "      <td>NaN</td>\n",
       "      <td>0.0</td>\n",
       "      <td>【蚕丝皂】吸附黑头的能力一级棒，清洁不选它是你没眼光[撇嘴][撇嘴]西游记申请吉尼斯百元哥被...</td>\n",
       "      <td>NaN</td>\n",
       "      <td>NaN</td>\n",
       "      <td>NaN</td>\n",
       "      <td>NaN</td>\n",
       "      <td>3.777620e+15</td>\n",
       "      <td>NaN</td>\n",
       "      <td>2014/11/16 19:57</td>\n",
       "      <td>2.346770e+09</td>\n",
       "      <td>http://weibo.com/206445959</td>\n",
       "      <td>0.0</td>\n",
       "      <td>NaN</td>\n",
       "      <td>NaN</td>\n",
       "      <td>NaN</td>\n",
       "      <td>NaN</td>\n",
       "    </tr>\n",
       "    <tr>\n",
       "      <th>4</th>\n",
       "      <td>NaN</td>\n",
       "      <td>0.0</td>\n",
       "      <td>我活得很好！//【世界最穷总统拒绝酋长高价收购其老旧座驾】http://t.cn/RzvUwDk</td>\n",
       "      <td>NaN</td>\n",
       "      <td>NaN</td>\n",
       "      <td>NaN</td>\n",
       "      <td>NaN</td>\n",
       "      <td>3.777620e+15</td>\n",
       "      <td>NaN</td>\n",
       "      <td>2014/11/16 19:57</td>\n",
       "      <td>5.136475e+09</td>\n",
       "      <td>http://weibo.com/u/5136475477</td>\n",
       "      <td>0.0</td>\n",
       "      <td>NaN</td>\n",
       "      <td>NaN</td>\n",
       "      <td>NaN</td>\n",
       "      <td>NaN</td>\n",
       "    </tr>\n",
       "  </tbody>\n",
       "</table>\n",
       "</div>"
      ],
      "text/plain": [
       "   class  comment_num                                            content  \\\n",
       "0    NaN          0.0  鐖嗙編鏉ヨ�鐙��瀹炴媿璐ㄩ噺鐪嬬殑瑙佹嫑寰�俊浠ｇ悊涓�欢浠ｅ彂涓撳崠鍥介檯鍝佺墝鍚嶉瀷鍝佽川璧㈠緱甯傚満璇氫俊璧氬緱浜哄績V淇★細a...   \n",
       "1    NaN          0.0  銆愬ゥ姹�窘閰电礌鍙嶉�銆戞晥鏋滀笉濂戒篃涓嶄細鍗栬繖涔堝ソ銆傛�甯稿悆楗�紝涓嶇敤鑺傞�锛屼笉鐢ㄨ繍鍔�紝鍋ュ悍缁胯壊娌℃湁鍓�綔鐢ㄣ�...   \n",
       "2    NaN          0.0  鎴戞湁璇濊�銆愪笘鐣屾渶绌锋�缁熸嫆缁濋厠闀块珮浠锋敹璐�叾鑰佹棫搴ч┚銆戝叡浜у厷鍛橈紵http://t.cn/RzvUwBM   \n",
       "3    NaN          0.0  銆愯殨涓濈殏銆戝惛闄勯粦澶寸殑鑳藉姏涓�骇妫掞紝娓呮磥涓嶉�瀹冩槸浣犳病鐪煎厜[鎾囧槾][鎾囧槾]瑗挎父璁扮敵璇峰悏灏兼柉鐧惧厓鍝ヨ�...   \n",
       "4    NaN          0.0   鎴戞椿寰楀緢濂斤紒//銆愪笘鐣屾渶绌锋�缁熸嫆缁濋厠闀块珮浠锋敹璐�叾鑰佹棫搴ч┚銆慼ttp://t.cn/RzvUwDk   \n",
       "\n",
       "   followee_num follower_num gender message       post_id post_num  \\\n",
       "0           NaN          NaN    NaN     NaN  3.777580e+15      NaN   \n",
       "1           NaN          NaN    NaN     NaN  3.777620e+15      NaN   \n",
       "2           NaN          NaN    NaN     NaN  3.777620e+15      NaN   \n",
       "3           NaN          NaN    NaN     NaN  3.777620e+15      NaN   \n",
       "4           NaN          NaN    NaN     NaN  3.777620e+15      NaN   \n",
       "\n",
       "          post_time     poster_id                     poster_url  repost_num  \\\n",
       "0  2014/11/16 16:45  2.364770e+09    http://weibo.com/527loveyou         0.0   \n",
       "1  2014/11/16 19:58  2.346770e+09     http://weibo.com/206445959         0.0   \n",
       "2  2014/11/16 19:58  2.747800e+09  http://weibo.com/u/2747799853         0.0   \n",
       "3  2014/11/16 19:57  2.346770e+09     http://weibo.com/206445959         0.0   \n",
       "4  2014/11/16 19:57  5.136475e+09  http://weibo.com/u/5136475477         0.0   \n",
       "\n",
       "   repost_post_id  user_id user_image user_name  \n",
       "0             NaN      NaN        NaN       NaN  \n",
       "1             NaN      NaN        NaN       NaN  \n",
       "2             NaN      NaN        NaN       NaN  \n",
       "3             NaN      NaN        NaN       NaN  \n",
       "4             NaN      NaN        NaN       NaN  "
      ]
     },
     "execution_count": 51,
     "metadata": {},
     "output_type": "execute_result"
    }
   ],
   "source": [
    "# post.info()\n",
    "# post.head()\n",
    "frames = [post, new_user_post]\n",
    "\n",
    "result = pd.concat(frames)\n",
    "result.info()\n",
    "# result.drop(['scratch_time', 'poster', 'image'], axis=1, inplace=True)\n",
    "\n",
    "result.info()\n",
    "\n",
    "post = result\n",
    "post[“]"
   ]
  },
  {
   "cell_type": "markdown",
   "metadata": {},
   "source": [
    "post 处理完, 接下去处理user"
   ]
  },
  {
   "cell_type": "code",
   "execution_count": 28,
   "metadata": {
    "scrolled": true
   },
   "outputs": [
    {
     "data": {
      "text/html": [
       "<div>\n",
       "<table border=\"1\" class=\"dataframe\">\n",
       "  <thead>\n",
       "    <tr style=\"text-align: right;\">\n",
       "      <th></th>\n",
       "      <th>user_id</th>\n",
       "      <th>user_name</th>\n",
       "      <th>user_image</th>\n",
       "      <th>gender</th>\n",
       "      <th>class</th>\n",
       "      <th>message</th>\n",
       "      <th>post_num</th>\n",
       "      <th>follower_num</th>\n",
       "      <th>followee_num</th>\n",
       "      <th>is_spammer</th>\n",
       "      <th>Unnamed: 10</th>\n",
       "    </tr>\n",
       "  </thead>\n",
       "  <tbody>\n",
       "    <tr>\n",
       "      <th>0</th>\n",
       "      <td>1041514813</td>\n",
       "      <td>james1002</td>\n",
       "      <td>http://tp2.sinaimg.cn/1041514813/180/5708899731/1</td>\n",
       "      <td>male</td>\n",
       "      <td>5</td>\n",
       "      <td>Lv.5     浙江宁波   简介：诚信为本，站的高才能看的远。快乐开心每一天。</td>\n",
       "      <td>1557</td>\n",
       "      <td>1421</td>\n",
       "      <td>2000</td>\n",
       "      <td>NaN</td>\n",
       "      <td>NaN</td>\n",
       "    </tr>\n",
       "    <tr>\n",
       "      <th>1</th>\n",
       "      <td>1046222077</td>\n",
       "      <td>郑钧</td>\n",
       "      <td>http://tp2.sinaimg.cn/1046222077/180/5711167576/1</td>\n",
       "      <td>male</td>\n",
       "      <td>10</td>\n",
       "      <td>北京东城区   简介：且把悲歌欢唱   个性域名： zhengjun    博客地址： h...</td>\n",
       "      <td>1265</td>\n",
       "      <td>1280571</td>\n",
       "      <td>130</td>\n",
       "      <td>NaN</td>\n",
       "      <td>NaN</td>\n",
       "    </tr>\n",
       "    <tr>\n",
       "      <th>2</th>\n",
       "      <td>1049591831</td>\n",
       "      <td>波播阿波思密达</td>\n",
       "      <td>http://tp4.sinaimg.cn/1049591831/180/5710224593/0</td>\n",
       "      <td>female</td>\n",
       "      <td>5</td>\n",
       "      <td>Lv.5     吉林松原   1972年12月3日   简介：自由人，快乐族</td>\n",
       "      <td>503</td>\n",
       "      <td>302</td>\n",
       "      <td>968</td>\n",
       "      <td>NaN</td>\n",
       "      <td>NaN</td>\n",
       "    </tr>\n",
       "    <tr>\n",
       "      <th>3</th>\n",
       "      <td>1062050703</td>\n",
       "      <td>霞儿0109</td>\n",
       "      <td>http://tp4.sinaimg.cn/1062050703/180/1277084329/0</td>\n",
       "      <td>female</td>\n",
       "      <td>9</td>\n",
       "      <td>Lv.9     福建厦门    毕业于  厦门大学     公司  ChinaZ站长...</td>\n",
       "      <td>281</td>\n",
       "      <td>148</td>\n",
       "      <td>354</td>\n",
       "      <td>NaN</td>\n",
       "      <td>NaN</td>\n",
       "    </tr>\n",
       "    <tr>\n",
       "      <th>4</th>\n",
       "      <td>1071429143</td>\n",
       "      <td>紫荆花_18423</td>\n",
       "      <td>http://tp4.sinaimg.cn/1071429143/180/400610658...</td>\n",
       "      <td>female</td>\n",
       "      <td>5</td>\n",
       "      <td>Lv.5     广东湛江    毕业于  辽宁师范大学     公司  大学教师  ...</td>\n",
       "      <td>135</td>\n",
       "      <td>1975</td>\n",
       "      <td>2000</td>\n",
       "      <td>NaN</td>\n",
       "      <td>NaN</td>\n",
       "    </tr>\n",
       "  </tbody>\n",
       "</table>\n",
       "</div>"
      ],
      "text/plain": [
       "      user_id  user_name                                         user_image  \\\n",
       "0  1041514813  james1002  http://tp2.sinaimg.cn/1041514813/180/5708899731/1   \n",
       "1  1046222077         閮戦挧  http://tp2.sinaimg.cn/1046222077/180/5711167576/1   \n",
       "2  1049591831    娉㈡挱闃挎尝鎬濆瘑杈� http://tp4.sinaimg.cn/1049591831/180/5710224593/0   \n",
       "3  1062050703     闇炲効0109  http://tp4.sinaimg.cn/1062050703/180/1277084329/0   \n",
       "4  1071429143  绱�崋鑺盻18423  http://tp4.sinaimg.cn/1071429143/180/400610658...   \n",
       "\n",
       "   gender  class                                            message post_num  \\\n",
       "0    male      5        Lv.5     娴欐睙瀹佹尝   绠�粙锛氳瘹淇′负鏈�紝绔欑殑楂樻墠鑳界湅鐨勮繙銆傚揩涔愬紑蹇冩瘡涓�ぉ銆�      1557   \n",
       "1    male     10   鍖椾含涓滃煄鍖�  绠�粙锛氫笖鎶婃偛姝屾�鍞�  涓��鍩熷悕锛�zhengjun    鍗氬�鍦板潃锛�h...     1265   \n",
       "2  female      5          Lv.5     鍚夋灄鏉惧師   1972骞�2鏈�鏃�  绠�粙锛氳嚜鐢变汉锛屽揩涔愭棌        503   \n",
       "3  female      9     Lv.9     绂忓缓鍘﹂棬    姣曚笟浜� 鍘﹂棬澶у�     鍏�徃  ChinaZ绔欓暱...      281   \n",
       "4  female      5     Lv.5     骞夸笢婀涙睙    姣曚笟浜� 杈藉畞甯堣寖澶у�     鍏�徃  澶у�鏁欏笀  ...      135   \n",
       "\n",
       "  follower_num  followee_num  is_spammer  Unnamed: 10  \n",
       "0         1421          2000         NaN          NaN  \n",
       "1      1280571           130         NaN          NaN  \n",
       "2          302           968         NaN          NaN  \n",
       "3          148           354         NaN          NaN  \n",
       "4         1975          2000         NaN          NaN  "
      ]
     },
     "execution_count": 28,
     "metadata": {},
     "output_type": "execute_result"
    }
   ],
   "source": [
    "user.info()\n",
    "user.head()"
   ]
  },
  {
   "cell_type": "code",
   "execution_count": 49,
   "metadata": {},
   "outputs": [
    {
     "data": {
      "text/plain": [
       "98982"
      ]
     },
     "execution_count": 49,
     "metadata": {},
     "output_type": "execute_result"
    }
   ],
   "source": [
    "user_set = set(user['user_name'])\n",
    "follower = pd.read_csv(\"./data/follower_followee.csv\", encoding='gbk')\n",
    "follower_set = set(follower['follower'])\n",
    "followee_set = set(follower['followee'])\n",
    "num = 0\n",
    "set_sum = followee_set | follower_set\n",
    "for i in set_sum:\n",
    "    if i not in user_set:\n",
    "        num += 1\n",
    "num\n"
   ]
  },
  {
   "cell_type": "code",
   "execution_count": 47,
   "metadata": {},
   "outputs": [
    {
     "data": {
      "text/plain": [
       "{1, 2, 3, 4, 5}"
      ]
     },
     "execution_count": 47,
     "metadata": {},
     "output_type": "execute_result"
    }
   ],
   "source": [
    "set([1,2,3]) | set([1,4,5])"
   ]
  }
 ],
 "metadata": {
  "anaconda-cloud": {},
  "kernelspec": {
   "display_name": "Python 2",
   "language": "python",
   "name": "python2"
  },
  "language_info": {
   "codemirror_mode": {
    "name": "ipython",
    "version": 2
   },
   "file_extension": ".py",
   "mimetype": "text/x-python",
   "name": "python",
   "nbconvert_exporter": "python",
   "pygments_lexer": "ipython2",
   "version": "2.7.12"
  }
 },
 "nbformat": 4,
 "nbformat_minor": 1
}
