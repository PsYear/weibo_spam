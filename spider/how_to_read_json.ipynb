{
 "cells": [
  {
   "cell_type": "code",
   "execution_count": 2,
   "metadata": {},
   "outputs": [
    {
     "name": "stdout",
     "output_type": "stream",
     "text": [
      "['1200860993.txt', '1495710180.txt', '2065072254.txt', '2102882751.txt', '2161663171.txt', '2577032911.txt', '2668003111.txt', '2677247414.txt', '2702681951.txt', '3172808350.txt', '3278184025.txt', '3290672531.txt', '3308626032.txt', '3753444374.txt', '3800925698.txt', '3850432914.txt', '3885151899.txt', '3903486165.txt', '3938859131.txt', '3941665298.txt', '5014697929.txt', '5028636903.txt', '5032737101.txt', '5032807933.txt', '5032833233.txt', '5032866773.txt', '5035346498.txt', '5035867320.txt', '5036284104.txt', '5042018968.txt', '5043492155.txt', '5059119591.txt', '5074962490.txt', '5075631940.txt', '5076259117.txt', '5080081088.txt', '5086809145.txt', '5088923657.txt', '5092035771.txt', '5112245558.txt', '5132071739.txt', '5139328491.txt', '5190089148.txt', '5204123253.txt', '5219339446.txt', '5358338052.txt']\n"
     ]
    }
   ],
   "source": [
    "#coding:utf-8\n",
    "#python3\n",
    "import json\n",
    "import os\n",
    "path = os.getcwd()\n",
    "file_list = os.listdir(path+'/weibo/') #一种处理所有文件的方式，在可以循环打开该列表\n",
    "print(file_list)\n",
    "with open('./weibo/1200860993.txt','r') as filename:\n",
    "    a = json.loads(filename.read())"
   ]
  },
  {
   "cell_type": "code",
   "execution_count": 33,
   "metadata": {},
   "outputs": [
    {
     "name": "stdout",
     "output_type": "stream",
     "text": [
      "0:  #MS唇膏试色#【TF唇膏试色】TOMFORD的唇膏那么高大上不拥有一支中感觉有点儿遗憾，但是那么多色号究竟怎么选？如果喜欢日常又可以轻易驾驭的颜色，我试色的几个色号还是很好搭的特别是淡涂，每个颜色都非常独特[doge]用得最多的还是Paradiso和wildginger，很适合黄皮的一粉一橘，要是入人参的第一支TF 全文\n",
      "转发数:  0\n",
      "1:  #丢粉评测##jiaozi的试色# 24支带闪唇釉blingbling合集终于大功告成啦ω友情提醒：本文超多长图 请在Wi-Fi下观看 流量党慎点[污]点加载原图观赏更佳喔[污]这个合集大概花了我一个多月的时间 磨磨唧唧拖拖拉拉终于都拍完了 但是因为很多支拍摄时间都不同所以可能唇部状态 全文\n",
      "转发数:  0\n",
      "2:  目前微博上最火的三套舞蹈，卧槽碉堡了，喜欢就试着学学吧！！！秒拍视频 \n",
      "转发数:  0\n",
      "3:  唇妆是我们整个妆容的点睛之笔，只要几笔就能瞬间提亮肤色，可天天就一种颜色你是不觉得太单调了呢？所以今天就给宝宝们分享一波60+款MAC口红全试色大全告诉少女，你爱什么颜色? \n",
      "转发数:  0\n",
      "4:  #陶昕然受辱回骂网友# [吃惊]曾在《甄嬛传》中饰演安陵容的演员@陶昕然 ，因有网友在其晒出的女儿照片微博下辱骂“你女儿不会有好下场”，怒而转发回骂“X你大爷”。对此，部分网友认为被骂者自作自受活该被骂，也有人觉得作为公众人物骂得太过了。你怎么看？投票：演员陶昕然微博受辱炮轰网友，你怎么看？ \n",
      "转发数:  0\n"
     ]
    }
   ],
   "source": [
    "for i in range(5):\n",
    "    print(str(i)+\":  \"+a['weibo'][i]['content'])\n",
    "    print(\"转发数:  \"+a['weibo'][i]['forward'])\n"
   ]
  },
  {
   "cell_type": "markdown",
   "metadata": {},
   "source": [
    "#        输出内容说明\n",
    "        txt_dict['name']  #用户信息\n",
    "        txt_dict['id']    #用户id\n",
    "        txt_dict['weibos_num']     #微博数\n",
    "        txt_dict['following_num']    #关注数\n",
    "        txt_dict['followers_num']     #粉丝数\n",
    "        txt_dict['weibo'] = []\n",
    "        \n",
    "        for i in range(1,self.weiboNum2 + 1):\n",
    "            weibo_dict = {}\n",
    "            weibo_dict['content']   #微博内容\n",
    "            weibo_dict['upvote']   #点赞数\n",
    "            weibo_dict['forward']   #转发数\n",
    "            weibo_dict['comment']    #评论数\n",
    "            weibo_dict['time']  #时间\n",
    "            weibo_dict['forward_flag']   #是否是转发\n",
    "            txt_dict['weibo'].append(weibo_dict)\n",
    "            \n",
    "         "
   ]
  },
  {
   "cell_type": "code",
   "execution_count": null,
   "metadata": {
    "collapsed": true
   },
   "outputs": [],
   "source": []
  }
 ],
 "metadata": {
  "kernelspec": {
   "display_name": "Python 3",
   "language": "python",
   "name": "python3"
  },
  "language_info": {
   "codemirror_mode": {
    "name": "ipython",
    "version": 3
   },
   "file_extension": ".py",
   "mimetype": "text/x-python",
   "name": "python",
   "nbconvert_exporter": "python",
   "pygments_lexer": "ipython3",
   "version": "3.5.2"
  }
 },
 "nbformat": 4,
 "nbformat_minor": 2
}
