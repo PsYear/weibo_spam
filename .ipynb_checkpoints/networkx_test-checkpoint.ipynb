{
 "cells": [
  {
   "cell_type": "code",
   "execution_count": 68,
   "metadata": {},
   "outputs": [
    {
     "name": "stdout",
     "output_type": "stream",
     "text": [
      "['xiaoming', 'xiaohong', 'xiaowang']\n",
      "{'xiaohong': {'time': '1'}, 'xiaowang': {'time': '2'}}\n"
     ]
    }
   ],
   "source": [
    "import networkx as nx\n",
    "import matplotlib.pyplot as plt\n",
    "G = nx.DiGraph()\n",
    "G.add_node(\"xiaoming\",time = '5')\n",
    "G.add_node(\"xiaohong\",hour = '6')\n",
    "G.add_node(\"xiaowang\",minu = '7')\n",
    "\n",
    "G.add_edge(\"xiaoming\",\"xiaohong\",time = '1')\n",
    "G.add_edge(\"xiaoming\",\"xiaowang\",time = '2')\n",
    "\n",
    "node_list = G.nodes()\n",
    "print node_list\n",
    "node = G.edge[\"xiaoming\"]\n",
    "print node"
   ]
  },
  {
   "cell_type": "code",
   "execution_count": 70,
   "metadata": {},
   "outputs": [],
   "source": [
    "\n",
    "nx.draw(G) #画出图G\n",
    "#plt.show()"
   ]
  },
  {
   "cell_type": "code",
   "execution_count": 60,
   "metadata": {
    "collapsed": true
   },
   "outputs": [],
   "source": [
    "import pandas as pd #数据分析\n",
    "import numpy as np #科学计算\n",
    "from pandas import Series,DataFrame"
   ]
  },
  {
   "cell_type": "code",
   "execution_count": 64,
   "metadata": {},
   "outputs": [],
   "source": [
    "follower = pd.read_csv(\"./data/follower_followee.csv\", encoding='gbk')\n",
    "#follower.head()"
   ]
  },
  {
   "cell_type": "code",
   "execution_count": 66,
   "metadata": {},
   "outputs": [
    {
     "name": "stdout",
     "output_type": "stream",
     "text": [
      "142368\n",
      "142368\n"
     ]
    }
   ],
   "source": [
    "print len(follower['follower'])\n",
    "print len(follower['followee'])"
   ]
  },
  {
   "cell_type": "code",
   "execution_count": 77,
   "metadata": {},
   "outputs": [],
   "source": [
    "G = nx.DiGraph()\n",
    "num = len(follower['follower'])\n",
    "for i in range(1000):\n",
    "    e = (follower['follower'][i],follower['followee'][i])\n",
    "    G.add_edge(*e)\n",
    "\n",
    "node_list = G.nodes()\n"
   ]
  },
  {
   "cell_type": "code",
   "execution_count": null,
   "metadata": {},
   "outputs": [],
   "source": [
    "nx.draw(G) #画出图G\n",
    "plt.show()"
   ]
  },
  {
   "cell_type": "code",
   "execution_count": null,
   "metadata": {
    "collapsed": true
   },
   "outputs": [],
   "source": []
  }
 ],
 "metadata": {
  "kernelspec": {
   "display_name": "Python 2",
   "language": "python",
   "name": "python2"
  },
  "language_info": {
   "codemirror_mode": {
    "name": "ipython",
    "version": 2
   },
   "file_extension": ".py",
   "mimetype": "text/x-python",
   "name": "python",
   "nbconvert_exporter": "python",
   "pygments_lexer": "ipython2",
   "version": "2.7.12"
  }
 },
 "nbformat": 4,
 "nbformat_minor": 2
}
