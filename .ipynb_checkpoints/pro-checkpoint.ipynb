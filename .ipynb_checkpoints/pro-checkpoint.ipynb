{
 "cells": [
  {
   "cell_type": "code",
   "execution_count": 2,
   "metadata": {
    "scrolled": true
   },
   "outputs": [],
   "source": [
    "# -*- coding:utf-8 -*-\n",
    "import pandas as pd #数据分析\n",
    "import numpy as np #科学计算\n",
    "from pandas import Series,DataFrame\n",
    "\n",
    "post = pd.read_csv(\"./data/post.csv\", encoding='gbk')\n",
    "\n",
    "follower = pd.read_csv(\"./data/follower_followee.csv\", encoding='gbk')\n",
    "\n",
    "user_post = pd.read_excel('./data/user_post.xls', 'user_post')\n",
    "# user_post\n",
    "\n",
    "user = pd.read_excel('./data/weibo_user.xls', 'weibo_user')\n",
    "# user\n"
   ]
  },
  {
   "cell_type": "markdown",
   "metadata": {},
   "source": [
    "先分析post数据"
   ]
  },
  {
   "cell_type": "code",
   "execution_count": 3,
   "metadata": {
    "collapsed": true
   },
   "outputs": [],
   "source": [
    "# 加上这段后就能在同一cell中显示多个对象\n",
    "from IPython.core.interactiveshell import InteractiveShell\n",
    "InteractiveShell.ast_node_interactivity = \"all\""
   ]
  },
  {
   "cell_type": "code",
   "execution_count": 124,
   "metadata": {},
   "outputs": [
    {
     "data": {
      "text/plain": [
       "array([u'post_id', u'scratch_time', u'post_time', u'content', u'image',\n",
       "       u'poster', u'poster_id', u'poster_url', u'repost_num',\n",
       "       u'comment_num', u'repost_post_id'], dtype=object)"
      ]
     },
     "execution_count": 124,
     "metadata": {},
     "output_type": "execute_result"
    },
    {
     "data": {
      "text/plain": [
       "array([u'post_id', u'post_time', u'content', u'poster_id', u'poster_url',\n",
       "       u'repost_num', u'comment_num', u'repost_post_id', u'inner_flag',\n",
       "       'Unnamed: 9', 'Unnamed: 10', 'Unnamed: 11', 'Unnamed: 12',\n",
       "       'Unnamed: 13', 'Unnamed: 14', 'Unnamed: 15', 'Unnamed: 16',\n",
       "       'Unnamed: 17', 'Unnamed: 18', 'Unnamed: 19', 'Unnamed: 20',\n",
       "       'Unnamed: 21', 'Unnamed: 22', 'Unnamed: 23', 'Unnamed: 24',\n",
       "       'Unnamed: 25', 'Unnamed: 26', 'Unnamed: 27', 'Unnamed: 28',\n",
       "       'Unnamed: 29', 'Unnamed: 30', 'Unnamed: 31', 'Unnamed: 32',\n",
       "       'Unnamed: 33', 'Unnamed: 34', 'Unnamed: 35', 'Unnamed: 36',\n",
       "       'Unnamed: 37', 'Unnamed: 38', 'Unnamed: 39', 'Unnamed: 40',\n",
       "       'Unnamed: 41', 'Unnamed: 42'], dtype=object)"
      ]
     },
     "execution_count": 124,
     "metadata": {},
     "output_type": "execute_result"
    },
    {
     "data": {
      "text/plain": [
       "array([u'user_id', u'user_name', u'user_image', u'gender', u'class',\n",
       "       u'message', u'post_num', u'follower_num', u'followee_num',\n",
       "       u'is_spammer', 'Unnamed: 10'], dtype=object)"
      ]
     },
     "execution_count": 124,
     "metadata": {},
     "output_type": "execute_result"
    }
   ],
   "source": [
    "post.columns.values\n",
    "\n",
    "user_post.columns.values\n",
    "\n",
    "user.columns.values"
   ]
  },
  {
   "cell_type": "code",
   "execution_count": 125,
   "metadata": {
    "scrolled": true
   },
   "outputs": [
    {
     "data": {
      "text/html": [
       "<div>\n",
       "<table border=\"1\" class=\"dataframe\">\n",
       "  <thead>\n",
       "    <tr style=\"text-align: right;\">\n",
       "      <th></th>\n",
       "      <th>user_id</th>\n",
       "      <th>user_name</th>\n",
       "      <th>user_image</th>\n",
       "      <th>gender</th>\n",
       "      <th>class</th>\n",
       "      <th>message</th>\n",
       "      <th>post_num</th>\n",
       "      <th>follower_num</th>\n",
       "      <th>followee_num</th>\n",
       "      <th>is_spammer</th>\n",
       "      <th>Unnamed: 10</th>\n",
       "    </tr>\n",
       "  </thead>\n",
       "  <tbody>\n",
       "    <tr>\n",
       "      <th>0</th>\n",
       "      <td>1041514813</td>\n",
       "      <td>james1002</td>\n",
       "      <td>http://tp2.sinaimg.cn/1041514813/180/5708899731/1</td>\n",
       "      <td>male</td>\n",
       "      <td>5</td>\n",
       "      <td>Lv.5     浙江宁波   简介：诚信为本，站的高才能看的远。快乐开心每一天。</td>\n",
       "      <td>1557</td>\n",
       "      <td>1421</td>\n",
       "      <td>2000</td>\n",
       "      <td>NaN</td>\n",
       "      <td>NaN</td>\n",
       "    </tr>\n",
       "    <tr>\n",
       "      <th>1</th>\n",
       "      <td>1046222077</td>\n",
       "      <td>郑钧</td>\n",
       "      <td>http://tp2.sinaimg.cn/1046222077/180/5711167576/1</td>\n",
       "      <td>male</td>\n",
       "      <td>10</td>\n",
       "      <td>北京东城区   简介：且把悲歌欢唱   个性域名： zhengjun    博客地址： h...</td>\n",
       "      <td>1265</td>\n",
       "      <td>1280571</td>\n",
       "      <td>130</td>\n",
       "      <td>NaN</td>\n",
       "      <td>NaN</td>\n",
       "    </tr>\n",
       "    <tr>\n",
       "      <th>2</th>\n",
       "      <td>1049591831</td>\n",
       "      <td>波播阿波思密达</td>\n",
       "      <td>http://tp4.sinaimg.cn/1049591831/180/5710224593/0</td>\n",
       "      <td>female</td>\n",
       "      <td>5</td>\n",
       "      <td>Lv.5     吉林松原   1972年12月3日   简介：自由人，快乐族</td>\n",
       "      <td>503</td>\n",
       "      <td>302</td>\n",
       "      <td>968</td>\n",
       "      <td>NaN</td>\n",
       "      <td>NaN</td>\n",
       "    </tr>\n",
       "    <tr>\n",
       "      <th>3</th>\n",
       "      <td>1062050703</td>\n",
       "      <td>霞儿0109</td>\n",
       "      <td>http://tp4.sinaimg.cn/1062050703/180/1277084329/0</td>\n",
       "      <td>female</td>\n",
       "      <td>9</td>\n",
       "      <td>Lv.9     福建厦门    毕业于  厦门大学     公司  ChinaZ站长...</td>\n",
       "      <td>281</td>\n",
       "      <td>148</td>\n",
       "      <td>354</td>\n",
       "      <td>NaN</td>\n",
       "      <td>NaN</td>\n",
       "    </tr>\n",
       "    <tr>\n",
       "      <th>4</th>\n",
       "      <td>1071429143</td>\n",
       "      <td>紫荆花_18423</td>\n",
       "      <td>http://tp4.sinaimg.cn/1071429143/180/400610658...</td>\n",
       "      <td>female</td>\n",
       "      <td>5</td>\n",
       "      <td>Lv.5     广东湛江    毕业于  辽宁师范大学     公司  大学教师  ...</td>\n",
       "      <td>135</td>\n",
       "      <td>1975</td>\n",
       "      <td>2000</td>\n",
       "      <td>NaN</td>\n",
       "      <td>NaN</td>\n",
       "    </tr>\n",
       "  </tbody>\n",
       "</table>\n",
       "</div>"
      ],
      "text/plain": [
       "      user_id  user_name                                         user_image  \\\n",
       "0  1041514813  james1002  http://tp2.sinaimg.cn/1041514813/180/5708899731/1   \n",
       "1  1046222077         郑钧  http://tp2.sinaimg.cn/1046222077/180/5711167576/1   \n",
       "2  1049591831    波播阿波思密达  http://tp4.sinaimg.cn/1049591831/180/5710224593/0   \n",
       "3  1062050703     霞儿0109  http://tp4.sinaimg.cn/1062050703/180/1277084329/0   \n",
       "4  1071429143  紫荆花_18423  http://tp4.sinaimg.cn/1071429143/180/400610658...   \n",
       "\n",
       "   gender  class                                            message post_num  \\\n",
       "0    male      5        Lv.5     浙江宁波   简介：诚信为本，站的高才能看的远。快乐开心每一天。       1557   \n",
       "1    male     10   北京东城区   简介：且把悲歌欢唱   个性域名： zhengjun    博客地址： h...     1265   \n",
       "2  female      5          Lv.5     吉林松原   1972年12月3日   简介：自由人，快乐族        503   \n",
       "3  female      9     Lv.9     福建厦门    毕业于  厦门大学     公司  ChinaZ站长...      281   \n",
       "4  female      5     Lv.5     广东湛江    毕业于  辽宁师范大学     公司  大学教师  ...      135   \n",
       "\n",
       "  follower_num  followee_num  is_spammer  Unnamed: 10  \n",
       "0         1421          2000         NaN          NaN  \n",
       "1      1280571           130         NaN          NaN  \n",
       "2          302           968         NaN          NaN  \n",
       "3          148           354         NaN          NaN  \n",
       "4         1975          2000         NaN          NaN  "
      ]
     },
     "execution_count": 125,
     "metadata": {},
     "output_type": "execute_result"
    }
   ],
   "source": [
    "user.head()"
   ]
  },
  {
   "cell_type": "code",
   "execution_count": 89,
   "metadata": {},
   "outputs": [
    {
     "data": {
      "text/plain": [
       "{'confidence': 0.5649227316969248, 'encoding': 'ISO-8859-2'}"
      ]
     },
     "execution_count": 89,
     "metadata": {},
     "output_type": "execute_result"
    }
   ],
   "source": [
    "user_post = pd.read_csv('./data/weibo_user1.csv')\n",
    "# user_post\n",
    "import chardet\n",
    "s = user_post.iloc[0, 5]\n",
    "s\n",
    "#     f = open(filepath,'rb')\n",
    "#     data = f.read()\n",
    "# print chardet.detect(data)\n",
    "chardet.detect(s)\n",
    "\n",
    "# detect_coding()"
   ]
  },
  {
   "cell_type": "code",
   "execution_count": 20,
   "metadata": {
    "scrolled": true
   },
   "outputs": [
    {
     "name": "stdout",
     "output_type": "stream",
     "text": [
      "<class 'pandas.core.frame.DataFrame'>\n",
      "RangeIndex: 48813 entries, 0 to 48812\n",
      "Data columns (total 43 columns):\n",
      "post_id           40445 non-null float64\n",
      "post_time         40444 non-null object\n",
      "content           39525 non-null object\n",
      "poster_id         40443 non-null object\n",
      "poster_url        40442 non-null object\n",
      "repost_num        40443 non-null object\n",
      "comment_num       40443 non-null object\n",
      "repost_post_id    635 non-null object\n",
      "inner_flag        19048 non-null object\n",
      "Unnamed: 9        128 non-null object\n",
      "Unnamed: 10       48 non-null object\n",
      "Unnamed: 11       26 non-null object\n",
      "Unnamed: 12       14 non-null object\n",
      "Unnamed: 13       8 non-null object\n",
      "Unnamed: 14       8 non-null object\n",
      "Unnamed: 15       4 non-null object\n",
      "Unnamed: 16       5 non-null object\n",
      "Unnamed: 17       4 non-null object\n",
      "Unnamed: 18       1 non-null object\n",
      "Unnamed: 19       1 non-null object\n",
      "Unnamed: 20       1 non-null object\n",
      "Unnamed: 21       1 non-null object\n",
      "Unnamed: 22       1 non-null object\n",
      "Unnamed: 23       1 non-null object\n",
      "Unnamed: 24       1 non-null object\n",
      "Unnamed: 25       1 non-null object\n",
      "Unnamed: 26       1 non-null object\n",
      "Unnamed: 27       1 non-null object\n",
      "Unnamed: 28       1 non-null object\n",
      "Unnamed: 29       1 non-null object\n",
      "Unnamed: 30       1 non-null object\n",
      "Unnamed: 31       1 non-null object\n",
      "Unnamed: 32       1 non-null object\n",
      "Unnamed: 33       1 non-null object\n",
      "Unnamed: 34       1 non-null object\n",
      "Unnamed: 35       1 non-null object\n",
      "Unnamed: 36       1 non-null object\n",
      "Unnamed: 37       1 non-null object\n",
      "Unnamed: 38       1 non-null object\n",
      "Unnamed: 39       1 non-null float64\n",
      "Unnamed: 40       1 non-null object\n",
      "Unnamed: 41       1 non-null float64\n",
      "Unnamed: 42       1 non-null float64\n",
      "dtypes: float64(4), object(39)\n",
      "memory usage: 16.0+ MB\n",
      "<class 'pandas.core.frame.DataFrame'>\n",
      "RangeIndex: 48813 entries, 0 to 48812\n",
      "Data columns (total 9 columns):\n",
      "post_id           40445 non-null float64\n",
      "post_time         40444 non-null object\n",
      "content           39525 non-null object\n",
      "poster_id         40443 non-null object\n",
      "poster_url        40442 non-null object\n",
      "repost_num        40443 non-null object\n",
      "comment_num       40443 non-null object\n",
      "repost_post_id    635 non-null object\n",
      "inner_flag        19048 non-null object\n",
      "dtypes: float64(1), object(8)\n",
      "memory usage: 3.4+ MB\n"
     ]
    }
   ],
   "source": [
    "# 除去多余列\n",
    "user_post.info()\n",
    "\n",
    "new_user_post = user_post.drop(user_post.columns[[i for i in range(9, 43)]], axis=1)\n",
    "\n",
    "new_user_post.info()"
   ]
  },
  {
   "cell_type": "code",
   "execution_count": 23,
   "metadata": {},
   "outputs": [
    {
     "data": {
      "text/plain": [
       "array([u'post_id', u'post_time', u'content', u'poster_id', u'poster_url',\n",
       "       u'repost_num', u'comment_num', u'repost_post_id', u'inner_flag'], dtype=object)"
      ]
     },
     "execution_count": 23,
     "metadata": {},
     "output_type": "execute_result"
    },
    {
     "data": {
      "text/plain": [
       "array([u'post_id', u'scratch_time', u'post_time', u'content', u'image',\n",
       "       u'poster', u'poster_id', u'poster_url', u'repost_num',\n",
       "       u'comment_num', u'repost_post_id'], dtype=object)"
      ]
     },
     "execution_count": 23,
     "metadata": {},
     "output_type": "execute_result"
    }
   ],
   "source": [
    "new_user_post.columns.values\n",
    "\n",
    "post.columns.values"
   ]
  },
  {
   "cell_type": "markdown",
   "metadata": {},
   "source": [
    "post多了scratch_time 猜测爬取时间 image 图片地址\n",
    "poster 用户名\n",
    "new_user_post 多inner_flag 不知道干嘛的"
   ]
  },
  {
   "cell_type": "code",
   "execution_count": 29,
   "metadata": {
    "scrolled": true
   },
   "outputs": [
    {
     "name": "stdout",
     "output_type": "stream",
     "text": [
      "<class 'pandas.core.frame.DataFrame'>\n",
      "Int64Index: 48848 entries, 0 to 48812\n",
      "Data columns (total 12 columns):\n",
      "comment_num       40478 non-null object\n",
      "content           39560 non-null object\n",
      "image             35 non-null object\n",
      "inner_flag        19048 non-null object\n",
      "post_id           40480 non-null float64\n",
      "post_time         40479 non-null object\n",
      "poster            35 non-null object\n",
      "poster_id         40478 non-null object\n",
      "poster_url        40477 non-null object\n",
      "repost_num        40478 non-null object\n",
      "repost_post_id    635 non-null object\n",
      "scratch_time      35 non-null object\n",
      "dtypes: float64(1), object(11)\n",
      "memory usage: 4.8+ MB\n",
      "<class 'pandas.core.frame.DataFrame'>\n",
      "Int64Index: 48848 entries, 0 to 48812\n",
      "Data columns (total 9 columns):\n",
      "comment_num       40478 non-null object\n",
      "content           39560 non-null object\n",
      "inner_flag        19048 non-null object\n",
      "post_id           40480 non-null float64\n",
      "post_time         40479 non-null object\n",
      "poster_id         40478 non-null object\n",
      "poster_url        40477 non-null object\n",
      "repost_num        40478 non-null object\n",
      "repost_post_id    635 non-null object\n",
      "dtypes: float64(1), object(8)\n",
      "memory usage: 3.7+ MB\n"
     ]
    }
   ],
   "source": [
    "# post.info()\n",
    "# post.head()\n",
    "frames = [post, new_user_post]\n",
    "\n",
    "result = pd.concat(frames)\n",
    "result.info()\n",
    "result.drop(['scratch_time', 'poster', 'image'], axis=1, inplace=True)\n",
    "\n",
    "result.info()\n",
    "\n",
    "post = result"
   ]
  },
  {
   "cell_type": "markdown",
   "metadata": {},
   "source": [
    "post 处理完, 接下去处理user"
   ]
  },
  {
   "cell_type": "code",
   "execution_count": 31,
   "metadata": {
    "scrolled": true
   },
   "outputs": [
    {
     "name": "stdout",
     "output_type": "stream",
     "text": [
      "<class 'pandas.core.frame.DataFrame'>\n",
      "RangeIndex: 781 entries, 0 to 780\n",
      "Data columns (total 11 columns):\n",
      "user_id         781 non-null int64\n",
      "user_name       781 non-null object\n",
      "user_image      781 non-null object\n",
      "gender          781 non-null object\n",
      "class           781 non-null int64\n",
      "message         780 non-null object\n",
      "post_num        781 non-null object\n",
      "follower_num    781 non-null object\n",
      "followee_num    781 non-null int64\n",
      "is_spammer      183 non-null float64\n",
      "Unnamed: 10     2 non-null float64\n",
      "dtypes: float64(2), int64(3), object(6)\n",
      "memory usage: 67.2+ KB\n"
     ]
    },
    {
     "data": {
      "text/html": [
       "<div>\n",
       "<table border=\"1\" class=\"dataframe\">\n",
       "  <thead>\n",
       "    <tr style=\"text-align: right;\">\n",
       "      <th></th>\n",
       "      <th>user_id</th>\n",
       "      <th>user_name</th>\n",
       "      <th>user_image</th>\n",
       "      <th>gender</th>\n",
       "      <th>class</th>\n",
       "      <th>message</th>\n",
       "      <th>post_num</th>\n",
       "      <th>follower_num</th>\n",
       "      <th>followee_num</th>\n",
       "      <th>is_spammer</th>\n",
       "      <th>Unnamed: 10</th>\n",
       "    </tr>\n",
       "  </thead>\n",
       "  <tbody>\n",
       "    <tr>\n",
       "      <th>0</th>\n",
       "      <td>1041514813</td>\n",
       "      <td>james1002</td>\n",
       "      <td>http://tp2.sinaimg.cn/1041514813/180/5708899731/1</td>\n",
       "      <td>male</td>\n",
       "      <td>5</td>\n",
       "      <td>Lv.5     浙江宁波   简介：诚信为本，站的高才能看的远。快乐开心每一天。</td>\n",
       "      <td>1557</td>\n",
       "      <td>1421</td>\n",
       "      <td>2000</td>\n",
       "      <td>NaN</td>\n",
       "      <td>NaN</td>\n",
       "    </tr>\n",
       "    <tr>\n",
       "      <th>1</th>\n",
       "      <td>1046222077</td>\n",
       "      <td>郑钧</td>\n",
       "      <td>http://tp2.sinaimg.cn/1046222077/180/5711167576/1</td>\n",
       "      <td>male</td>\n",
       "      <td>10</td>\n",
       "      <td>北京东城区   简介：且把悲歌欢唱   个性域名： zhengjun    博客地址： h...</td>\n",
       "      <td>1265</td>\n",
       "      <td>1280571</td>\n",
       "      <td>130</td>\n",
       "      <td>NaN</td>\n",
       "      <td>NaN</td>\n",
       "    </tr>\n",
       "    <tr>\n",
       "      <th>2</th>\n",
       "      <td>1049591831</td>\n",
       "      <td>波播阿波思密达</td>\n",
       "      <td>http://tp4.sinaimg.cn/1049591831/180/5710224593/0</td>\n",
       "      <td>female</td>\n",
       "      <td>5</td>\n",
       "      <td>Lv.5     吉林松原   1972年12月3日   简介：自由人，快乐族</td>\n",
       "      <td>503</td>\n",
       "      <td>302</td>\n",
       "      <td>968</td>\n",
       "      <td>NaN</td>\n",
       "      <td>NaN</td>\n",
       "    </tr>\n",
       "    <tr>\n",
       "      <th>3</th>\n",
       "      <td>1062050703</td>\n",
       "      <td>霞儿0109</td>\n",
       "      <td>http://tp4.sinaimg.cn/1062050703/180/1277084329/0</td>\n",
       "      <td>female</td>\n",
       "      <td>9</td>\n",
       "      <td>Lv.9     福建厦门    毕业于  厦门大学     公司  ChinaZ站长...</td>\n",
       "      <td>281</td>\n",
       "      <td>148</td>\n",
       "      <td>354</td>\n",
       "      <td>NaN</td>\n",
       "      <td>NaN</td>\n",
       "    </tr>\n",
       "    <tr>\n",
       "      <th>4</th>\n",
       "      <td>1071429143</td>\n",
       "      <td>紫荆花_18423</td>\n",
       "      <td>http://tp4.sinaimg.cn/1071429143/180/400610658...</td>\n",
       "      <td>female</td>\n",
       "      <td>5</td>\n",
       "      <td>Lv.5     广东湛江    毕业于  辽宁师范大学     公司  大学教师  ...</td>\n",
       "      <td>135</td>\n",
       "      <td>1975</td>\n",
       "      <td>2000</td>\n",
       "      <td>NaN</td>\n",
       "      <td>NaN</td>\n",
       "    </tr>\n",
       "  </tbody>\n",
       "</table>\n",
       "</div>"
      ],
      "text/plain": [
       "      user_id  user_name                                         user_image  \\\n",
       "0  1041514813  james1002  http://tp2.sinaimg.cn/1041514813/180/5708899731/1   \n",
       "1  1046222077         郑钧  http://tp2.sinaimg.cn/1046222077/180/5711167576/1   \n",
       "2  1049591831    波播阿波思密达  http://tp4.sinaimg.cn/1049591831/180/5710224593/0   \n",
       "3  1062050703     霞儿0109  http://tp4.sinaimg.cn/1062050703/180/1277084329/0   \n",
       "4  1071429143  紫荆花_18423  http://tp4.sinaimg.cn/1071429143/180/400610658...   \n",
       "\n",
       "   gender  class                                            message post_num  \\\n",
       "0    male      5        Lv.5     浙江宁波   简介：诚信为本，站的高才能看的远。快乐开心每一天。       1557   \n",
       "1    male     10   北京东城区   简介：且把悲歌欢唱   个性域名： zhengjun    博客地址： h...     1265   \n",
       "2  female      5          Lv.5     吉林松原   1972年12月3日   简介：自由人，快乐族        503   \n",
       "3  female      9     Lv.9     福建厦门    毕业于  厦门大学     公司  ChinaZ站长...      281   \n",
       "4  female      5     Lv.5     广东湛江    毕业于  辽宁师范大学     公司  大学教师  ...      135   \n",
       "\n",
       "  follower_num  followee_num  is_spammer  Unnamed: 10  \n",
       "0         1421          2000         NaN          NaN  \n",
       "1      1280571           130         NaN          NaN  \n",
       "2          302           968         NaN          NaN  \n",
       "3          148           354         NaN          NaN  \n",
       "4         1975          2000         NaN          NaN  "
      ]
     },
     "execution_count": 31,
     "metadata": {},
     "output_type": "execute_result"
    }
   ],
   "source": [
    "user.info()\n",
    "user.head()"
   ]
  },
  {
   "cell_type": "code",
   "execution_count": null,
   "metadata": {
    "collapsed": true
   },
   "outputs": [],
   "source": []
  }
 ],
 "metadata": {
  "anaconda-cloud": {},
  "kernelspec": {
   "display_name": "Python 2",
   "language": "python",
   "name": "python2"
  },
  "language_info": {
   "codemirror_mode": {
    "name": "ipython",
    "version": 2
   },
   "file_extension": ".py",
   "mimetype": "text/x-python",
   "name": "python",
   "nbconvert_exporter": "python",
   "pygments_lexer": "ipython2",
   "version": "2.7.12"
  }
 },
 "nbformat": 4,
 "nbformat_minor": 1
}
