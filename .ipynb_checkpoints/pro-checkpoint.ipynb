{
 "cells": [
  {
   "cell_type": "code",
   "execution_count": 4,
   "metadata": {
    "collapsed": true
   },
   "outputs": [],
   "source": [
    "###### -*- coding:utf-8 -*-\n",
    "import pandas as pd #数据分析\n",
    "import numpy as np #科学计算\n",
    "from pandas import Series,DataFrame\n",
    "\n",
    "post = pd.read_csv(\"./data/post.csv\", encoding='gbk')\n",
    "\n",
    "follower = pd.read_csv(\"./data/follower_followee.csv\", encoding='gbk')\n",
    "\n",
    "user_post = pd.read_excel('./data/user_post.xls', 'user_post')\n",
    "# user_post\n",
    "\n",
    "user = pd.read_excel('./data/weibo_user.xls', 'weibo_user')\n",
    "# user\n",
    "\n"
   ]
  },
  {
   "cell_type": "markdown",
   "metadata": {},
   "source": [
    "先分析post数据"
   ]
  },
  {
   "cell_type": "code",
   "execution_count": 12,
   "metadata": {
    "collapsed": true
   },
   "outputs": [],
   "source": [
    "# 加上这段后就能在同一cell中显示多个对象\n",
    "from IPython.core.interactiveshell import InteractiveShell\n",
    "InteractiveShell.ast_node_interactivity = \"all\""
   ]
  },
  {
   "cell_type": "code",
   "execution_count": 13,
   "metadata": {},
   "outputs": [
    {
     "data": {
      "text/plain": [
       "array([u'post_id', u'scratch_time', u'post_time', u'content', u'image',\n",
       "       u'poster', u'poster_id', u'poster_url', u'repost_num',\n",
       "       u'comment_num', u'repost_post_id'], dtype=object)"
      ]
     },
     "execution_count": 13,
     "metadata": {},
     "output_type": "execute_result"
    },
    {
     "data": {
      "text/plain": [
       "array(['user_id', 'user_name', 'user_image', 'gender', 'class', 'message',\n",
       "       'post_num', 'follower_num', 'followee_num', 'is_spammer',\n",
       "       'Unnamed: 10'], dtype=object)"
      ]
     },
     "execution_count": 13,
     "metadata": {},
     "output_type": "execute_result"
    },
    {
     "data": {
      "text/plain": [
       "array([u'user_id', u'user_name', u'user_image', u'gender', u'class',\n",
       "       u'message', u'post_num', u'follower_num', u'followee_num',\n",
       "       u'is_spammer', 'Unnamed: 10'], dtype=object)"
      ]
     },
     "execution_count": 13,
     "metadata": {},
     "output_type": "execute_result"
    }
   ],
   "source": [
    "post.columns.values\n",
    "\n",
    "user_post.columns.values\n",
    "\n",
    "user.columns.values"
   ]
  },
  {
   "cell_type": "code",
   "execution_count": 14,
   "metadata": {
    "scrolled": true
   },
   "outputs": [
    {
     "data": {
      "text/html": [
       "<div>\n",
       "<table border=\"1\" class=\"dataframe\">\n",
       "  <thead>\n",
       "    <tr style=\"text-align: right;\">\n",
       "      <th></th>\n",
       "      <th>user_id</th>\n",
       "      <th>user_name</th>\n",
       "      <th>user_image</th>\n",
       "      <th>gender</th>\n",
       "      <th>class</th>\n",
       "      <th>message</th>\n",
       "      <th>post_num</th>\n",
       "      <th>follower_num</th>\n",
       "      <th>followee_num</th>\n",
       "      <th>is_spammer</th>\n",
       "      <th>Unnamed: 10</th>\n",
       "    </tr>\n",
       "  </thead>\n",
       "  <tbody>\n",
       "    <tr>\n",
       "      <th>0</th>\n",
       "      <td>1041514813</td>\n",
       "      <td>james1002</td>\n",
       "      <td>http://tp2.sinaimg.cn/1041514813/180/5708899731/1</td>\n",
       "      <td>male</td>\n",
       "      <td>5</td>\n",
       "      <td>Lv.5     浙江宁波   简介：诚信为本，站的高才能看的远。快乐开心每一天。</td>\n",
       "      <td>1557</td>\n",
       "      <td>1421</td>\n",
       "      <td>2000</td>\n",
       "      <td>NaN</td>\n",
       "      <td>NaN</td>\n",
       "    </tr>\n",
       "    <tr>\n",
       "      <th>1</th>\n",
       "      <td>1046222077</td>\n",
       "      <td>郑钧</td>\n",
       "      <td>http://tp2.sinaimg.cn/1046222077/180/5711167576/1</td>\n",
       "      <td>male</td>\n",
       "      <td>10</td>\n",
       "      <td>北京东城区   简介：且把悲歌欢唱   个性域名： zhengjun    博客地址： h...</td>\n",
       "      <td>1265</td>\n",
       "      <td>1280571</td>\n",
       "      <td>130</td>\n",
       "      <td>NaN</td>\n",
       "      <td>NaN</td>\n",
       "    </tr>\n",
       "    <tr>\n",
       "      <th>2</th>\n",
       "      <td>1049591831</td>\n",
       "      <td>波播阿波思密达</td>\n",
       "      <td>http://tp4.sinaimg.cn/1049591831/180/5710224593/0</td>\n",
       "      <td>female</td>\n",
       "      <td>5</td>\n",
       "      <td>Lv.5     吉林松原   1972年12月3日   简介：自由人，快乐族</td>\n",
       "      <td>503</td>\n",
       "      <td>302</td>\n",
       "      <td>968</td>\n",
       "      <td>NaN</td>\n",
       "      <td>NaN</td>\n",
       "    </tr>\n",
       "    <tr>\n",
       "      <th>3</th>\n",
       "      <td>1062050703</td>\n",
       "      <td>霞儿0109</td>\n",
       "      <td>http://tp4.sinaimg.cn/1062050703/180/1277084329/0</td>\n",
       "      <td>female</td>\n",
       "      <td>9</td>\n",
       "      <td>Lv.9     福建厦门    毕业于  厦门大学     公司  ChinaZ站长...</td>\n",
       "      <td>281</td>\n",
       "      <td>148</td>\n",
       "      <td>354</td>\n",
       "      <td>NaN</td>\n",
       "      <td>NaN</td>\n",
       "    </tr>\n",
       "    <tr>\n",
       "      <th>4</th>\n",
       "      <td>1071429143</td>\n",
       "      <td>紫荆花_18423</td>\n",
       "      <td>http://tp4.sinaimg.cn/1071429143/180/400610658...</td>\n",
       "      <td>female</td>\n",
       "      <td>5</td>\n",
       "      <td>Lv.5     广东湛江    毕业于  辽宁师范大学     公司  大学教师  ...</td>\n",
       "      <td>135</td>\n",
       "      <td>1975</td>\n",
       "      <td>2000</td>\n",
       "      <td>NaN</td>\n",
       "      <td>NaN</td>\n",
       "    </tr>\n",
       "  </tbody>\n",
       "</table>\n",
       "</div>"
      ],
      "text/plain": [
       "      user_id  user_name                                         user_image  \\\n",
       "0  1041514813  james1002  http://tp2.sinaimg.cn/1041514813/180/5708899731/1   \n",
       "1  1046222077         閮戦挧  http://tp2.sinaimg.cn/1046222077/180/5711167576/1   \n",
       "2  1049591831    娉㈡挱闃挎尝鎬濆瘑杈� http://tp4.sinaimg.cn/1049591831/180/5710224593/0   \n",
       "3  1062050703     闇炲効0109  http://tp4.sinaimg.cn/1062050703/180/1277084329/0   \n",
       "4  1071429143  绱�崋鑺盻18423  http://tp4.sinaimg.cn/1071429143/180/400610658...   \n",
       "\n",
       "   gender  class                                            message post_num  \\\n",
       "0    male      5        Lv.5     娴欐睙瀹佹尝   绠�粙锛氳瘹淇′负鏈�紝绔欑殑楂樻墠鑳界湅鐨勮繙銆傚揩涔愬紑蹇冩瘡涓�ぉ銆�      1557   \n",
       "1    male     10   鍖椾含涓滃煄鍖�  绠�粙锛氫笖鎶婃偛姝屾�鍞�  涓��鍩熷悕锛�zhengjun    鍗氬�鍦板潃锛�h...     1265   \n",
       "2  female      5          Lv.5     鍚夋灄鏉惧師   1972骞�2鏈�鏃�  绠�粙锛氳嚜鐢变汉锛屽揩涔愭棌        503   \n",
       "3  female      9     Lv.9     绂忓缓鍘﹂棬    姣曚笟浜� 鍘﹂棬澶у�     鍏�徃  ChinaZ绔欓暱...      281   \n",
       "4  female      5     Lv.5     骞夸笢婀涙睙    姣曚笟浜� 杈藉畞甯堣寖澶у�     鍏�徃  澶у�鏁欏笀  ...      135   \n",
       "\n",
       "  follower_num  followee_num  is_spammer  Unnamed: 10  \n",
       "0         1421          2000         NaN          NaN  \n",
       "1      1280571           130         NaN          NaN  \n",
       "2          302           968         NaN          NaN  \n",
       "3          148           354         NaN          NaN  \n",
       "4         1975          2000         NaN          NaN  "
      ]
     },
     "execution_count": 14,
     "metadata": {},
     "output_type": "execute_result"
    }
   ],
   "source": [
    "user.head()"
   ]
  },
  {
   "cell_type": "code",
   "execution_count": 23,
   "metadata": {},
   "outputs": [
    {
     "data": {
      "text/plain": [
       "'   Lv.5     \\xd5\\xe3\\xbd\\xad\\xc4\\xfe\\xb2\\xa8   \\xbc\\xf2\\xbd\\xe9\\xa3\\xba\\xb3\\xcf\\xd0\\xc5\\xce\\xaa\\xb1\\xbe\\xa3\\xac\\xd5\\xbe\\xb5\\xc4\\xb8\\xdf\\xb2\\xc5\\xc4\\xdc\\xbf\\xb4\\xb5\\xc4\\xd4\\xb6\\xa1\\xa3\\xbf\\xec\\xc0\\xd6\\xbf\\xaa\\xd0\\xc4\\xc3\\xbf\\xd2\\xbb\\xcc\\xec\\xa1\\xa3  '"
      ]
     },
     "execution_count": 23,
     "metadata": {},
     "output_type": "execute_result"
    },
    {
     "data": {
      "text/plain": [
       "{'confidence': 0.99, 'encoding': 'GB2312'}"
      ]
     },
     "execution_count": 23,
     "metadata": {},
     "output_type": "execute_result"
    }
   ],
   "source": [
    "user_post = pd.read_csv('./data/weibo_user1.csv')\n",
    "# user_post\n",
    "\n",
    "\n",
    "import chardet\n",
    "s = user_post.iloc[0, 5]\n",
    "s\n",
    "#     f = open(filepath,'rb')\n",
    "#     data = f.read()\n",
    "# print chardet.detect(data)\n",
    "chardet.detect(s)\n",
    "\n",
    "# detect_coding()"
   ]
  },
  {
   "cell_type": "code",
   "execution_count": 25,
   "metadata": {
    "scrolled": true
   },
   "outputs": [],
   "source": [
    "# 除去多余列\n",
    "user_post.info()\n",
    "\n",
    "new_user_post = user_post.drop(user_post.columns[[i for i in range(9, 11)]], axis=1)\n",
    "\n",
    "new_user_post.info()"
   ]
  },
  {
   "cell_type": "code",
   "execution_count": 26,
   "metadata": {},
   "outputs": [
    {
     "data": {
      "text/plain": [
       "array(['user_id', 'user_name', 'user_image', 'gender', 'class', 'message',\n",
       "       'post_num', 'follower_num', 'followee_num'], dtype=object)"
      ]
     },
     "execution_count": 26,
     "metadata": {},
     "output_type": "execute_result"
    },
    {
     "data": {
      "text/plain": [
       "array([u'post_id', u'scratch_time', u'post_time', u'content', u'image',\n",
       "       u'poster', u'poster_id', u'poster_url', u'repost_num',\n",
       "       u'comment_num', u'repost_post_id'], dtype=object)"
      ]
     },
     "execution_count": 26,
     "metadata": {},
     "output_type": "execute_result"
    }
   ],
   "source": [
    "new_user_post.columns.values\n",
    "\n",
    "post.columns.values"
   ]
  },
  {
   "cell_type": "markdown",
   "metadata": {},
   "source": [
    "post多了scratch_time 猜测爬取时间 image 图片地址\n",
    "poster 用户名\n",
    "new_user_post 多inner_flag 不知道干嘛的"
   ]
  },
  {
   "cell_type": "code",
   "execution_count": 27,
   "metadata": {
    "scrolled": true
   },
   "outputs": [],
   "source": [
    "# post.info()\n",
    "# post.head()\n",
    "frames = [post, new_user_post]\n",
    "\n",
    "result = pd.concat(frames)\n",
    "result.info()\n",
    "result.drop(['scratch_time', 'poster', 'image'], axis=1, inplace=True)\n",
    "\n",
    "result.info()\n",
    "\n",
    "post = result"
   ]
  },
  {
   "cell_type": "markdown",
   "metadata": {},
   "source": [
    "post 处理完, 接下去处理user"
   ]
  },
  {
   "cell_type": "code",
   "execution_count": 28,
   "metadata": {
    "scrolled": true
   },
   "outputs": [
    {
     "data": {
      "text/html": [
       "<div>\n",
       "<table border=\"1\" class=\"dataframe\">\n",
       "  <thead>\n",
       "    <tr style=\"text-align: right;\">\n",
       "      <th></th>\n",
       "      <th>user_id</th>\n",
       "      <th>user_name</th>\n",
       "      <th>user_image</th>\n",
       "      <th>gender</th>\n",
       "      <th>class</th>\n",
       "      <th>message</th>\n",
       "      <th>post_num</th>\n",
       "      <th>follower_num</th>\n",
       "      <th>followee_num</th>\n",
       "      <th>is_spammer</th>\n",
       "      <th>Unnamed: 10</th>\n",
       "    </tr>\n",
       "  </thead>\n",
       "  <tbody>\n",
       "    <tr>\n",
       "      <th>0</th>\n",
       "      <td>1041514813</td>\n",
       "      <td>james1002</td>\n",
       "      <td>http://tp2.sinaimg.cn/1041514813/180/5708899731/1</td>\n",
       "      <td>male</td>\n",
       "      <td>5</td>\n",
       "      <td>Lv.5     浙江宁波   简介：诚信为本，站的高才能看的远。快乐开心每一天。</td>\n",
       "      <td>1557</td>\n",
       "      <td>1421</td>\n",
       "      <td>2000</td>\n",
       "      <td>NaN</td>\n",
       "      <td>NaN</td>\n",
       "    </tr>\n",
       "    <tr>\n",
       "      <th>1</th>\n",
       "      <td>1046222077</td>\n",
       "      <td>郑钧</td>\n",
       "      <td>http://tp2.sinaimg.cn/1046222077/180/5711167576/1</td>\n",
       "      <td>male</td>\n",
       "      <td>10</td>\n",
       "      <td>北京东城区   简介：且把悲歌欢唱   个性域名： zhengjun    博客地址： h...</td>\n",
       "      <td>1265</td>\n",
       "      <td>1280571</td>\n",
       "      <td>130</td>\n",
       "      <td>NaN</td>\n",
       "      <td>NaN</td>\n",
       "    </tr>\n",
       "    <tr>\n",
       "      <th>2</th>\n",
       "      <td>1049591831</td>\n",
       "      <td>波播阿波思密达</td>\n",
       "      <td>http://tp4.sinaimg.cn/1049591831/180/5710224593/0</td>\n",
       "      <td>female</td>\n",
       "      <td>5</td>\n",
       "      <td>Lv.5     吉林松原   1972年12月3日   简介：自由人，快乐族</td>\n",
       "      <td>503</td>\n",
       "      <td>302</td>\n",
       "      <td>968</td>\n",
       "      <td>NaN</td>\n",
       "      <td>NaN</td>\n",
       "    </tr>\n",
       "    <tr>\n",
       "      <th>3</th>\n",
       "      <td>1062050703</td>\n",
       "      <td>霞儿0109</td>\n",
       "      <td>http://tp4.sinaimg.cn/1062050703/180/1277084329/0</td>\n",
       "      <td>female</td>\n",
       "      <td>9</td>\n",
       "      <td>Lv.9     福建厦门    毕业于  厦门大学     公司  ChinaZ站长...</td>\n",
       "      <td>281</td>\n",
       "      <td>148</td>\n",
       "      <td>354</td>\n",
       "      <td>NaN</td>\n",
       "      <td>NaN</td>\n",
       "    </tr>\n",
       "    <tr>\n",
       "      <th>4</th>\n",
       "      <td>1071429143</td>\n",
       "      <td>紫荆花_18423</td>\n",
       "      <td>http://tp4.sinaimg.cn/1071429143/180/400610658...</td>\n",
       "      <td>female</td>\n",
       "      <td>5</td>\n",
       "      <td>Lv.5     广东湛江    毕业于  辽宁师范大学     公司  大学教师  ...</td>\n",
       "      <td>135</td>\n",
       "      <td>1975</td>\n",
       "      <td>2000</td>\n",
       "      <td>NaN</td>\n",
       "      <td>NaN</td>\n",
       "    </tr>\n",
       "  </tbody>\n",
       "</table>\n",
       "</div>"
      ],
      "text/plain": [
       "      user_id  user_name                                         user_image  \\\n",
       "0  1041514813  james1002  http://tp2.sinaimg.cn/1041514813/180/5708899731/1   \n",
       "1  1046222077         閮戦挧  http://tp2.sinaimg.cn/1046222077/180/5711167576/1   \n",
       "2  1049591831    娉㈡挱闃挎尝鎬濆瘑杈� http://tp4.sinaimg.cn/1049591831/180/5710224593/0   \n",
       "3  1062050703     闇炲効0109  http://tp4.sinaimg.cn/1062050703/180/1277084329/0   \n",
       "4  1071429143  绱�崋鑺盻18423  http://tp4.sinaimg.cn/1071429143/180/400610658...   \n",
       "\n",
       "   gender  class                                            message post_num  \\\n",
       "0    male      5        Lv.5     娴欐睙瀹佹尝   绠�粙锛氳瘹淇′负鏈�紝绔欑殑楂樻墠鑳界湅鐨勮繙銆傚揩涔愬紑蹇冩瘡涓�ぉ銆�      1557   \n",
       "1    male     10   鍖椾含涓滃煄鍖�  绠�粙锛氫笖鎶婃偛姝屾�鍞�  涓��鍩熷悕锛�zhengjun    鍗氬�鍦板潃锛�h...     1265   \n",
       "2  female      5          Lv.5     鍚夋灄鏉惧師   1972骞�2鏈�鏃�  绠�粙锛氳嚜鐢变汉锛屽揩涔愭棌        503   \n",
       "3  female      9     Lv.9     绂忓缓鍘﹂棬    姣曚笟浜� 鍘﹂棬澶у�     鍏�徃  ChinaZ绔欓暱...      281   \n",
       "4  female      5     Lv.5     骞夸笢婀涙睙    姣曚笟浜� 杈藉畞甯堣寖澶у�     鍏�徃  澶у�鏁欏笀  ...      135   \n",
       "\n",
       "  follower_num  followee_num  is_spammer  Unnamed: 10  \n",
       "0         1421          2000         NaN          NaN  \n",
       "1      1280571           130         NaN          NaN  \n",
       "2          302           968         NaN          NaN  \n",
       "3          148           354         NaN          NaN  \n",
       "4         1975          2000         NaN          NaN  "
      ]
     },
     "execution_count": 28,
     "metadata": {},
     "output_type": "execute_result"
    }
   ],
   "source": [
    "user.info()\n",
    "user.head()"
   ]
  },
  {
   "cell_type": "code",
   "execution_count": 40,
   "metadata": {},
   "outputs": [
    {
     "data": {
      "text/plain": [
       "52567"
      ]
     },
     "execution_count": 40,
     "metadata": {},
     "output_type": "execute_result"
    },
    {
     "data": {
      "text/plain": [
       "53935"
      ]
     },
     "execution_count": 40,
     "metadata": {},
     "output_type": "execute_result"
    }
   ],
   "source": [
    "user_set = set(user['user_name'])\n",
    "follower = pd.read_csv(\"./data/follower_followee.csv\", encoding='gbk')\n",
    "follower_set = set(follower['follower'])\n",
    "followee_set = set(follower['followee'])\n",
    "num = 0\n",
    "len(followee_set)\n",
    "len(follower_set)\n",
    "\n",
    "for i in follower_set:\n",
    "    if i not in user_set:\n",
    "        num += 1\n",
    "num\n",
    "num = 0\n",
    "for j in followee_set:\n",
    "    if i not in user_set:\n",
    "        num += 1\n",
    "num"
   ]
  },
  {
   "cell_type": "code",
   "execution_count": null,
   "metadata": {
    "collapsed": true
   },
   "outputs": [],
   "source": []
  }
 ],
 "metadata": {
  "anaconda-cloud": {},
  "kernelspec": {
   "display_name": "Python 2",
   "language": "python",
   "name": "python2"
  },
  "language_info": {
   "codemirror_mode": {
    "name": "ipython",
    "version": 2
   },
   "file_extension": ".py",
   "mimetype": "text/x-python",
   "name": "python",
   "nbconvert_exporter": "python",
   "pygments_lexer": "ipython2",
   "version": "2.7.12"
  }
 },
 "nbformat": 4,
 "nbformat_minor": 1
}
