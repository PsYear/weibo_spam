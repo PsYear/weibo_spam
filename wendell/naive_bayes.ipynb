{
 "cells": [
  {
   "cell_type": "code",
   "execution_count": 1,
   "metadata": {
    "collapsed": true
   },
   "outputs": [],
   "source": [
    "#coding:utf-8\n",
    "import json\n",
    "import os\n",
    "import pandas as pd\n",
    "import jieba\n",
    "\n",
    "\n",
    "path = os.getcwd()\n",
    "file_list = os.listdir(path+'/../spider/weibo/') \n",
    "\n",
    "spammer_order = pd.read_excel('../data/spammer_order.xls', 'spammer_order')\n",
    "spammer_order[spammer_order['user_id']==2065072254]['is_spammer'] #获取spam标识\n",
    "path_head = '../spider/weibo/'\n",
    "\n",
    "# print(a)\n",
    "        \n",
    "def spam_flat2spam_txt(spam_flag):\n",
    "    if spam_flag == 'yes':\n",
    "        return 'spam'\n",
    "    else:\n",
    "        return 'ham'"
   ]
  },
  {
   "cell_type": "code",
   "execution_count": 2,
   "metadata": {
    "collapsed": true
   },
   "outputs": [],
   "source": [
    "tingyongci_file = \"stop_word.txt\"\n",
    "with open(tingyongci_file,'r') as filename:\n",
    "    tingyonci_list = filename.read()"
   ]
  },
  {
   "cell_type": "code",
   "execution_count": 3,
   "metadata": {},
   "outputs": [
    {
     "name": "stderr",
     "output_type": "stream",
     "text": [
      "Building prefix dict from the default dictionary ...\n",
      "Loading model from cache /tmp/jieba.cache\n",
      "Loading model cost 1.817 seconds.\n",
      "Prefix dict has been built succesfully.\n"
     ]
    }
   ],
   "source": [
    "for data_txt in file_list:\n",
    "    with open('bayes_train.txt','w') as writefile:\n",
    "        with open(path_head+data_txt,'r') as filename:\n",
    "                a = json.loads(filename.read())\n",
    "                num = 0\n",
    "                weibo_user_id = int(a['id'])\n",
    "                spam_flag  = spammer_order[spammer_order['user_id']==weibo_user_id]['is_spammer']\n",
    "                spam_txt = spam_flat2spam_txt(spam_flag.item())\n",
    "                for weibo_order in a['weibo']:\n",
    "                    fenci_list = jieba.cut(weibo_order['content'])\n",
    "                    after_stop = []\n",
    "                    for fenci_ele in fenci_list:\n",
    "                        if fenci_ele not in tingyonci_list:\n",
    "                            after_stop.append(fenci_ele)\n",
    "#                     print(spam_txt+'\\t'+' '.join(after_stop))\n",
    "                    writefile.write(spam_txt+'\\t'+' '.join(after_stop))\n",
    "    #                 print(after_stop)"
   ]
  },
  {
   "cell_type": "code",
   "execution_count": 4,
   "metadata": {},
   "outputs": [],
   "source": [
    "# for data_file in file_list:\n",
    "#     with open()\n"
   ]
  },
  {
   "cell_type": "code",
   "execution_count": null,
   "metadata": {
    "collapsed": true
   },
   "outputs": [],
   "source": []
  }
 ],
 "metadata": {
  "kernelspec": {
   "display_name": "Python 3",
   "language": "python",
   "name": "python3"
  },
  "language_info": {
   "codemirror_mode": {
    "name": "ipython",
    "version": 3
   },
   "file_extension": ".py",
   "mimetype": "text/x-python",
   "name": "python",
   "nbconvert_exporter": "python",
   "pygments_lexer": "ipython3",
   "version": "3.5.2"
  }
 },
 "nbformat": 4,
 "nbformat_minor": 2
}
