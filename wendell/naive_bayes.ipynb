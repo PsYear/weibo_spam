{
 "cells": [
  {
   "cell_type": "code",
   "execution_count": 32,
   "metadata": {},
   "outputs": [],
   "source": [
    "#coding:utf-8\n",
    "import json\n",
    "import os\n",
    "import pandas as pd\n",
    "import jieba\n",
    "\n",
    "\n",
    "path = os.getcwd()\n",
    "file_list = os.listdir(path+'/../spider/weibo/') #一种处理所有文件的方式，在可以循环打开该列表\n",
    "# print(file_list)\n",
    "\n",
    "spammer_order = pd.read_excel('../data/spammer_order.xls', 'spammer_order')\n",
    "spammer_order[spammer_order['user_id']==2065072254]['is_spammer'] #获取spam标识\n",
    "path_head = '../spider/weibo/'\n",
    "\n",
    "# print(a)\n",
    "        \n",
    "    \n",
    "\n"
   ]
  },
  {
   "cell_type": "code",
   "execution_count": 42,
   "metadata": {
    "collapsed": true
   },
   "outputs": [],
   "source": [
    "tingyongci_file = \"tingyongci.txt\"\n",
    "with open(tingyongci_file,'r') as filename:\n",
    "    tingyonci_list = filename.read()"
   ]
  },
  {
   "cell_type": "code",
   "execution_count": 44,
   "metadata": {},
   "outputs": [],
   "source": [
    "# seg_list = jieba.cut(\"我来到北京清华大学\", cut_all=True)\n",
    "# print \"Full Mode:\", \"/ \".join(seg_list)  # 全模式\n",
    "\n",
    "with open(path_head+file_list[0],'r') as filename:\n",
    "        a = json.loads(filename.read())\n",
    "        for weibo_order in a['weibo']:\n",
    "            fenci_list = jieba.cut(weibo_order['content'])\n",
    "            after_stop = []\n",
    "            for i in fenci_list:\n",
    "                if i not in tingyonci_list:\n",
    "                    after_stop.append(i)\n",
    "#             print(after_stop)"
   ]
  },
  {
   "cell_type": "code",
   "execution_count": null,
   "metadata": {},
   "outputs": [],
   "source": []
  },
  {
   "cell_type": "code",
   "execution_count": null,
   "metadata": {
    "collapsed": true
   },
   "outputs": [],
   "source": []
  }
 ],
 "metadata": {
  "kernelspec": {
   "display_name": "Python 3",
   "language": "python",
   "name": "python3"
  },
  "language_info": {
   "codemirror_mode": {
    "name": "ipython",
    "version": 3
   },
   "file_extension": ".py",
   "mimetype": "text/x-python",
   "name": "python",
   "nbconvert_exporter": "python",
   "pygments_lexer": "ipython3",
   "version": "3.5.2"
  }
 },
 "nbformat": 4,
 "nbformat_minor": 2
}
